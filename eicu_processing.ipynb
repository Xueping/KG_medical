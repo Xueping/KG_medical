{
 "cells": [
  {
   "cell_type": "code",
   "execution_count": 87,
   "metadata": {},
   "outputs": [],
   "source": [
    "import pandas as pd\n",
    "import numpy as np\n",
    "import pickle\n",
    "from src.KEMCE.dataset.data_labelling import LabelsForData"
   ]
  },
  {
   "cell_type": "code",
   "execution_count": 88,
   "metadata": {},
   "outputs": [],
   "source": [
    "dx_file = 'data/diagnosis.csv'\n",
    "pats_file = 'data/patient.csv'\n",
    "\n",
    "sigle_dx_file = 'ccs/ccs_single_dx_tool_2015.csv'\n",
    "multi_dx_file = 'ccs/ccs_multi_dx_tool_2015.csv'\n",
    "label4data = LabelsForData(multi_dx_file, sigle_dx_file)"
   ]
  },
  {
   "cell_type": "code",
   "execution_count": 4,
   "metadata": {},
   "outputs": [],
   "source": [
    "dxes = pd.read_csv(dx_file, header=0)\n",
    "pats = pd.read_csv(pats_file, header=0)"
   ]
  },
  {
   "cell_type": "code",
   "execution_count": 9,
   "metadata": {},
   "outputs": [
    {
     "data": {
      "text/plain": [
       "(139367,)"
      ]
     },
     "execution_count": 9,
     "metadata": {},
     "output_type": "execute_result"
    }
   ],
   "source": [
    "pats.uniquepid.unique().shape"
   ]
  },
  {
   "cell_type": "code",
   "execution_count": 26,
   "metadata": {},
   "outputs": [],
   "source": [
    "# unique patient:count\n",
    "pat_vc = pats.uniquepid.value_counts()"
   ]
  },
  {
   "cell_type": "code",
   "execution_count": 27,
   "metadata": {},
   "outputs": [],
   "source": [
    "# patients whose admission number is at least 2\n",
    "pat_two_plus = pat_vc[pat_vc >1].index.tolist()"
   ]
  },
  {
   "cell_type": "code",
   "execution_count": 29,
   "metadata": {},
   "outputs": [
    {
     "data": {
      "text/plain": [
       "38483"
      ]
     },
     "execution_count": 29,
     "metadata": {},
     "output_type": "execute_result"
    }
   ],
   "source": [
    "len(pat_two_plus)"
   ]
  },
  {
   "cell_type": "code",
   "execution_count": 44,
   "metadata": {},
   "outputs": [],
   "source": [
    "pid_adm_map = {}\n",
    "for pid in pat_two_plus:\n",
    "    pats_adm = pats[pats.uniquepid==pid]\n",
    "    sorted_adms = pats_adm.sort_values(by=['hospitaldischargeyear', 'hospitaladmitoffset'], \n",
    "                                       ascending=[True, False])['patientunitstayid'].tolist()\n",
    "    pid_adm_map[pid] = sorted_adms"
   ]
  },
  {
   "cell_type": "code",
   "execution_count": 49,
   "metadata": {},
   "outputs": [],
   "source": [
    "#save pid admission map\n",
    "pickle.dump(pid_adm_map, open('outputs/eICU/pid_adm.map', 'wb'), -1)"
   ]
  },
  {
   "cell_type": "code",
   "execution_count": 51,
   "metadata": {},
   "outputs": [],
   "source": [
    "# filter null in icc9code field\n",
    "dxes = dxes[dxes.icd9code.notnull()]"
   ]
  },
  {
   "cell_type": "code",
   "execution_count": 90,
   "metadata": {},
   "outputs": [],
   "source": [
    "# Building Building strSeqs\n",
    "seqs = []\n",
    "for pid, adms in pid_adm_map.items():\n",
    "    seq = []\n",
    "    for adm in adms:\n",
    "        code_list = []\n",
    "        diags = dxes[dxes.patientunitstayid == adm]\n",
    "        for index, row in diags.iterrows():\n",
    "            codes = row.icd9code.split(',')\n",
    "            if len(codes) == 2:\n",
    "                # if the first letter is digit, it is icd9 code\n",
    "                if codes[0][0].isdigit():\n",
    "                    code_list.append(codes[0].replace('.', ''))\n",
    "                if codes[1][0].isdigit():\n",
    "                    code_list.append(codes[0].replace('.', ''))\n",
    "            else:\n",
    "                if codes[0][0].isdigit():\n",
    "                    code_list.append(codes[0].replace('.', ''))\n",
    "        if len(code_list) > 0:\n",
    "            seq.append(code_list)\n",
    "    if len(seq) > 1:\n",
    "        seqs.append(seq)"
   ]
  },
  {
   "cell_type": "code",
   "execution_count": 92,
   "metadata": {},
   "outputs": [],
   "source": [
    "# Building Building new strSeqs, which filters the admission with only one diagnosis code\n",
    "new_seqs = []\n",
    "for seq in seqs:\n",
    "    new_seq = []\n",
    "    for adm in seq:\n",
    "        if len(adm) == 1:\n",
    "            continue\n",
    "        else:\n",
    "            code_set = set(adm)\n",
    "            if len(code_set) == 1:\n",
    "                continue\n",
    "            else:\n",
    "                new_seq.append(list(code_set))\n",
    "    if len(new_seq) > 1:\n",
    "        new_seqs.append(new_seq)"
   ]
  },
  {
   "cell_type": "code",
   "execution_count": 93,
   "metadata": {},
   "outputs": [
    {
     "data": {
      "text/plain": [
       "16180"
      ]
     },
     "execution_count": 93,
     "metadata": {},
     "output_type": "execute_result"
    }
   ],
   "source": [
    "len(new_seqs)"
   ]
  },
  {
   "cell_type": "code",
   "execution_count": 94,
   "metadata": {},
   "outputs": [],
   "source": [
    "max_seq_len = 0\n",
    "max_adm_len = 0\n",
    "new_seqs_str = []\n",
    "adm_dx_ccs = []\n",
    "adm_dx_ccs_cat1 = []\n",
    "\n",
    "for seq in new_seqs:\n",
    "    seq_ls = []\n",
    "    dx_ccs_ls = []\n",
    "    dx_ccs_cat1_ls = []\n",
    "    if max_seq_len < len(seq):\n",
    "        max_seq_len = len(seq)\n",
    "    for adm in seq:\n",
    "        new_adm = []\n",
    "        dx_ccs = []\n",
    "        dx_ccs_cat1 = []\n",
    "        if max_adm_len < len(adm):\n",
    "            max_adm_len = len(adm)\n",
    "        for dx in adm:            \n",
    "            dxStr = 'D_' + dx\n",
    "            dxStr_ccs_single = 'D_' + label4data.code2single_dx[dx]\n",
    "            dxStr_ccs_cat1 = 'D_' + label4data.code2first_level_dx[dx]\n",
    "            new_adm.append(dxStr)\n",
    "            dx_ccs.append(dxStr_ccs_single)\n",
    "            dx_ccs_cat1.append(dxStr_ccs_cat1)\n",
    "        seq_ls.append(new_adm)\n",
    "        dx_ccs_ls.append(dx_ccs)\n",
    "        dx_ccs_cat1_ls.append(dx_ccs_cat1)\n",
    "    new_seqs_str.append(seq_ls)\n",
    "    adm_dx_ccs.append(dx_ccs_ls)\n",
    "    adm_dx_ccs_cat1.append(dx_ccs_cat1_ls)"
   ]
  },
  {
   "cell_type": "code",
   "execution_count": 97,
   "metadata": {},
   "outputs": [
    {
     "data": {
      "text/plain": [
       "(17, 57, 16180, 16180, 16180)"
      ]
     },
     "execution_count": 97,
     "metadata": {},
     "output_type": "execute_result"
    }
   ],
   "source": [
    "max_seq_len, max_adm_len, len(new_seqs_str), len(adm_dx_ccs), len(adm_dx_ccs_cat1)"
   ]
  },
  {
   "cell_type": "code",
   "execution_count": 105,
   "metadata": {},
   "outputs": [],
   "source": [
    "pickle.dump(new_seqs_str, open('outputs/eICU/eicu.seqs', 'wb'), -1)"
   ]
  },
  {
   "cell_type": "code",
   "execution_count": 104,
   "metadata": {},
   "outputs": [
    {
     "data": {
      "text/plain": [
       "([['D_7', 'D_3'], ['D_3', 'D_3'], ['D_3', 'D_3']],\n",
       " [['D_102', 'D_50'], ['D_55', 'D_50'], ['D_50', 'D_48']])"
      ]
     },
     "execution_count": 104,
     "metadata": {},
     "output_type": "execute_result"
    }
   ],
   "source": [
    "adm_dx_ccs_cat1[6], adm_dx_ccs[6]"
   ]
  },
  {
   "cell_type": "code",
   "execution_count": 107,
   "metadata": {},
   "outputs": [
    {
     "name": "stdout",
     "output_type": "stream",
     "text": [
      "Converting strSeqs to intSeqs, and making types for ccs single-level code\n"
     ]
    }
   ],
   "source": [
    "print('Converting strSeqs to intSeqs, and making types for ccs single-level code')\n",
    "dict_ccs = {}\n",
    "newSeqs_ccs = []\n",
    "for patient in adm_dx_ccs:\n",
    "    newPatient = []\n",
    "    for visit in patient:\n",
    "        newVisit = []\n",
    "        for code in set(visit):\n",
    "            if code in dict_ccs:\n",
    "                newVisit.append(dict_ccs[code])\n",
    "            else:\n",
    "                dict_ccs[code] = len(dict_ccs)\n",
    "                newVisit.append(dict_ccs[code])\n",
    "        newPatient.append(newVisit)\n",
    "    newSeqs_ccs.append(newPatient)"
   ]
  },
  {
   "cell_type": "code",
   "execution_count": 108,
   "metadata": {},
   "outputs": [
    {
     "data": {
      "text/plain": [
       "(167, 16180)"
      ]
     },
     "execution_count": 108,
     "metadata": {},
     "output_type": "execute_result"
    }
   ],
   "source": [
    "len(dict_ccs), len(newSeqs_ccs)"
   ]
  },
  {
   "cell_type": "code",
   "execution_count": 109,
   "metadata": {},
   "outputs": [
    {
     "name": "stdout",
     "output_type": "stream",
     "text": [
      "Converting strSeqs to intSeqs, and making types for ccs multi-level first level code\n"
     ]
    }
   ],
   "source": [
    "print('Converting strSeqs to intSeqs, and making types for ccs multi-level first level code')\n",
    "dict_ccs_cat1 = {}\n",
    "newSeqs_ccs_cat1 = []\n",
    "for patient in adm_dx_ccs_cat1:\n",
    "    newPatient = []\n",
    "    for visit in patient:\n",
    "        newVisit = []\n",
    "        for code in set(visit):\n",
    "            if code in dict_ccs_cat1:\n",
    "                newVisit.append(dict_ccs_cat1[code])\n",
    "            else:\n",
    "                dict_ccs_cat1[code] = len(dict_ccs_cat1)\n",
    "                newVisit.append(dict_ccs_cat1[code])\n",
    "        newPatient.append(newVisit)\n",
    "    newSeqs_ccs_cat1.append(newPatient)"
   ]
  },
  {
   "cell_type": "code",
   "execution_count": 110,
   "metadata": {},
   "outputs": [
    {
     "data": {
      "text/plain": [
       "(18, 16180)"
      ]
     },
     "execution_count": 110,
     "metadata": {},
     "output_type": "execute_result"
    }
   ],
   "source": [
    "len(dict_ccs_cat1), len(newSeqs_ccs_cat1)"
   ]
  },
  {
   "cell_type": "code",
   "execution_count": 111,
   "metadata": {},
   "outputs": [],
   "source": [
    "mimic_seqs = pickle.load(open('outputs/kemce/data/seq_prediction/mimic.inputs_all.seqs', 'rb'))"
   ]
  },
  {
   "cell_type": "code",
   "execution_count": 113,
   "metadata": {},
   "outputs": [
    {
     "data": {
      "text/plain": [
       "(7499,\n",
       " [['D_41401',\n",
       "   'D_4111',\n",
       "   'D_4241',\n",
       "   'D_V4582',\n",
       "   'D_2724',\n",
       "   'D_4019',\n",
       "   'D_60000',\n",
       "   'D_3899']])"
      ]
     },
     "execution_count": 113,
     "metadata": {},
     "output_type": "execute_result"
    }
   ],
   "source": [
    "len(mimic_seqs), mimic_seqs[0]"
   ]
  },
  {
   "cell_type": "code",
   "execution_count": 123,
   "metadata": {},
   "outputs": [
    {
     "name": "stdout",
     "output_type": "stream",
     "text": [
      "Converting seqs to model inputs\n"
     ]
    }
   ],
   "source": [
    "print('Converting seqs to model inputs')\n",
    "inputs_all = []\n",
    "labels_ccs = []\n",
    "labels_visit_cat1 = []\n",
    "vocab_set = {}\n",
    "for i, seq in enumerate(new_seqs_str):\n",
    "\n",
    "    last_seqs = seq\n",
    "    last_seq_ccs = newSeqs_ccs[i]\n",
    "    last_seq_ccs_cat1 = newSeqs_ccs_cat1[i]\n",
    "\n",
    "    valid_seq = last_seqs[:-1]\n",
    "    label_ccs = last_seq_ccs[-1]\n",
    "\n",
    "    labels_visit_cat1.append(last_seq_ccs_cat1[:-1])\n",
    "    inputs_all.append(valid_seq)\n",
    "    labels_ccs.append(label_ccs)\n",
    "\n",
    "    for visit in valid_seq:\n",
    "        for code in visit:\n",
    "#             print(code)\n",
    "            if code in vocab_set:\n",
    "                vocab_set[code] += 1\n",
    "            else:\n",
    "                vocab_set[code] = 1"
   ]
  },
  {
   "cell_type": "code",
   "execution_count": 124,
   "metadata": {},
   "outputs": [
    {
     "name": "stdout",
     "output_type": "stream",
     "text": [
      "57 17 167 16180 725 18\n"
     ]
    }
   ],
   "source": [
    "out_file = 'outputs/eICU/seq_prediction/eicu'\n",
    "\n",
    "sorted_vocab = {k: v for k, v in sorted(vocab_set.items(), key=lambda item: item[1], reverse=True)}\n",
    "pickle.dump(inputs_all, open(out_file + '.inputs_all.seqs', 'wb'), -1)\n",
    "pickle.dump(labels_ccs, open(out_file + '.labels_ccs.label', 'wb'), -1)\n",
    "pickle.dump(labels_visit_cat1, open(out_file + '.labels_visit_cat1.label', 'wb'), -1)\n",
    "pickle.dump(dict_ccs, open(out_file + '.ccs_single_level.dict', 'wb'), -1)\n",
    "pickle.dump(dict_ccs_cat1, open(out_file + '.ccs_cat1.dict', 'wb'), -1)\n",
    "outfd = open(out_file + '.vocab.txt', 'w')\n",
    "for k, v in sorted_vocab.items():\n",
    "    outfd.write(k + '\\n')\n",
    "outfd.close()\n",
    "\n",
    "max_seq_len = 0\n",
    "max_adm_len = 0\n",
    "for seq in new_seqs:\n",
    "    if max_seq_len < len(seq):\n",
    "        max_seq_len = len(seq)\n",
    "    for adm in seq:\n",
    "        if max_adm_len < len(adm):\n",
    "            max_adm_len = len(adm)\n",
    "print(max_adm_len, max_seq_len, len(dict_ccs), len(inputs_all), len(sorted_vocab), len(dict_ccs_cat1))"
   ]
  },
  {
   "cell_type": "code",
   "execution_count": 149,
   "metadata": {},
   "outputs": [],
   "source": [
    "treeFile = 'outputs/gram/data/eicu/eicu_new.seqs'\n",
    "tree = pickle.load(open(treeFile, 'rb'))"
   ]
  },
  {
   "cell_type": "code",
   "execution_count": 162,
   "metadata": {},
   "outputs": [],
   "source": [
    "treeFile = 'outputs/gram/data/eicu/eicu_new.seqs'\n",
    "tree = pickle.load(open(treeFile, 'rb'))\n",
    "seq_lens = [len(seq) for seq in tree]    \n",
    "max_seq_len = max(seq_lens)\n",
    "min_seq_len = min(seq_lens)"
   ]
  },
  {
   "cell_type": "code",
   "execution_count": 163,
   "metadata": {},
   "outputs": [
    {
     "data": {
      "text/plain": [
       "(17, 2, 16180)"
      ]
     },
     "execution_count": 163,
     "metadata": {},
     "output_type": "execute_result"
    }
   ],
   "source": [
    "max_seq_len, min_seq_len, len(tree)"
   ]
  },
  {
   "cell_type": "code",
   "execution_count": 158,
   "metadata": {},
   "outputs": [
    {
     "data": {
      "text/plain": [
       "17"
      ]
     },
     "execution_count": 158,
     "metadata": {},
     "output_type": "execute_result"
    }
   ],
   "source": [
    "max(seq_lens)"
   ]
  },
  {
   "cell_type": "code",
   "execution_count": 139,
   "metadata": {},
   "outputs": [],
   "source": [
    "treeFile = 'outputs/eICU/seq_prediction/eicu.level2.pk'\n",
    "tree_kemce = pickle.load(open(treeFile, 'rb'))"
   ]
  },
  {
   "cell_type": "code",
   "execution_count": 140,
   "metadata": {},
   "outputs": [
    {
     "data": {
      "text/plain": [
       "OrderedDict([(720, [720, 1110, 1109]),\n",
       "             (721, [721, 1110, 1109]),\n",
       "             (722, [722, 1110, 1109]),\n",
       "             (723, [723, 1110, 1109]),\n",
       "             (724, [724, 1110, 1109]),\n",
       "             (725, [725, 1110, 1109])])"
      ]
     },
     "execution_count": 140,
     "metadata": {},
     "output_type": "execute_result"
    }
   ],
   "source": [
    "tree_kemce"
   ]
  }
 ],
 "metadata": {
  "kernelspec": {
   "display_name": "Python 3",
   "language": "python",
   "name": "python3"
  },
  "language_info": {
   "codemirror_mode": {
    "name": "ipython",
    "version": 3
   },
   "file_extension": ".py",
   "mimetype": "text/x-python",
   "name": "python",
   "nbconvert_exporter": "python",
   "pygments_lexer": "ipython3",
   "version": "3.7.6"
  }
 },
 "nbformat": 4,
 "nbformat_minor": 4
}
