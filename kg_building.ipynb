{
 "cells": [
  {
   "cell_type": "code",
   "execution_count": 58,
   "metadata": {},
   "outputs": [],
   "source": [
    "import pickle\n",
    "import numpy as np"
   ]
  },
  {
   "cell_type": "code",
   "execution_count": 60,
   "metadata": {},
   "outputs": [],
   "source": [
    "outFile = 'src/dglke/ckpts/TransR_CCS_2/CCS_TransR_entity.npy'"
   ]
  },
  {
   "cell_type": "code",
   "execution_count": 61,
   "metadata": {},
   "outputs": [],
   "source": [
    "ent_embed = np.load(outFile)"
   ]
  },
  {
   "cell_type": "code",
   "execution_count": 63,
   "metadata": {},
   "outputs": [
    {
     "data": {
      "text/plain": [
       "(15800, 200)"
      ]
     },
     "execution_count": 63,
     "metadata": {},
     "output_type": "execute_result"
    }
   ],
   "source": [
    "ent_embed.shape"
   ]
  },
  {
   "cell_type": "code",
   "execution_count": 5,
   "metadata": {},
   "outputs": [],
   "source": [
    "relation = {\n",
    "    'is_parent_of': 0,\n",
    "    'is_child_of': 1\n",
    "}\n",
    "train_set = set()\n",
    "cat1count = 0\n",
    "cat2count = 0\n",
    "cat3count = 0\n",
    "cat4count = 0\n",
    "\n",
    "infd = open(graph_file, 'r')\n",
    "_ = infd.readline()\n",
    "\n",
    "# build dictionary of entities\n",
    "for line in infd:\n",
    "    tokens = line.strip().split(',')\n",
    "    icd9 = tokens[0][1:-1].strip()\n",
    "    cat1 = tokens[1][1:-1].strip()\n",
    "    desc1 = 'A_L1_' + cat1\n",
    "    cat2 = tokens[3][1:-1].strip()\n",
    "    desc2 = 'A_L2_' + cat2\n",
    "    cat3 = tokens[5][1:-1].strip()\n",
    "    desc3 = 'A_L3_' + cat3\n",
    "    cat4 = tokens[7][1:-1].strip()\n",
    "    desc4 = 'A_L4_' + cat4\n",
    "\n",
    "    if icd9.startswith('E'):\n",
    "        if len(icd9) > 4: icd9 = icd9[:4] + '.' + icd9[4:]\n",
    "    else:\n",
    "        if len(icd9) > 3: icd9 = icd9[:3] + '.' + icd9[3:]\n",
    "    icd9 = 'D_' + icd9\n",
    "\n",
    "    if icd9 not in entities:\n",
    "        entities[icd9] = len(entities)\n",
    "\n",
    "    if desc1 not in entities:\n",
    "        cat1count += 1\n",
    "        entities[desc1] = len(entities)\n",
    "\n",
    "    if len(cat2) > 0:\n",
    "        if desc2 not in entities:\n",
    "            cat2count += 1\n",
    "            entities[desc2] = len(entities)\n",
    "    if len(cat3) > 0:\n",
    "        if desc3 not in entities:\n",
    "            cat3count += 1\n",
    "            entities[desc3] = len(entities)\n",
    "    if len(cat4) > 0:\n",
    "        if desc4 not in entities:\n",
    "            cat4count += 1\n",
    "            entities[desc4] = len(entities)\n",
    "infd.close()\n",
    "\n",
    "# add root_code\n",
    "entities['A_ROOT'] = len(entities)\n",
    "rootCode = entities['A_ROOT']"
   ]
  },
  {
   "cell_type": "code",
   "execution_count": 6,
   "metadata": {},
   "outputs": [],
   "source": [
    "infd = open(graph_file, 'r')\n",
    "infd.readline()\n",
    "\n",
    "for line in infd:\n",
    "    tokens = line.strip().split(',')\n",
    "    icd9 = tokens[0][1:-1].strip()\n",
    "    cat1 = tokens[1][1:-1].strip()\n",
    "    desc1 = 'A_L1_' + cat1\n",
    "    cat2 = tokens[3][1:-1].strip()\n",
    "    desc2 = 'A_L2_' + cat2\n",
    "    cat3 = tokens[5][1:-1].strip()\n",
    "    desc3 = 'A_L3_' + cat3\n",
    "    cat4 = tokens[7][1:-1].strip()\n",
    "    desc4 = 'A_L4_' + cat4\n",
    "\n",
    "    if icd9.startswith('E'):\n",
    "        if len(icd9) > 4: icd9 = icd9[:4] + '.' + icd9[4:]\n",
    "    else:\n",
    "        if len(icd9) > 3: icd9 = icd9[:3] + '.' + icd9[3:]\n",
    "    icd9 = 'D_' + icd9\n",
    "\n",
    "    icdCode = entities[icd9]\n",
    "\n",
    "    if len(cat4) > 0:\n",
    "        code4 = entities[desc4]\n",
    "        code3 = entities[desc3]\n",
    "        code2 = entities[desc2]\n",
    "        code1 = entities[desc1]\n",
    "        train_set.add(str(rootCode) + ' 0 ' + str(code1))\n",
    "        train_set.add(str(code1) + ' 1 ' + str(rootCode))\n",
    "        train_set.add(str(code1) + ' 0 ' + str(code2))\n",
    "        train_set.add(str(code2) + ' 1 ' + str(code1))\n",
    "        train_set.add(str(code2) + ' 0 ' + str(code3))\n",
    "        train_set.add(str(code3) + ' 1 ' + str(code2))\n",
    "        train_set.add(str(code3) + ' 0 ' + str(code4))\n",
    "        train_set.add(str(code4) + ' 1 ' + str(code3))\n",
    "        train_set.add(str(code4) + ' 0 ' + str(icdCode))\n",
    "        train_set.add(str(icdCode) + ' 1 ' + str(code4))\n",
    "\n",
    "    elif len(cat3) > 0:\n",
    "        code3 = entities[desc3]\n",
    "        code2 = entities[desc2]\n",
    "        code1 = entities[desc1]\n",
    "\n",
    "        train_set.add(str(rootCode) + ' 0 ' + str(code1))\n",
    "        train_set.add(str(code1) + ' 1 ' + str(rootCode))\n",
    "        train_set.add(str(code1) + ' 0 ' + str(code2))\n",
    "        train_set.add(str(code2) + ' 1 ' + str(code1))\n",
    "        train_set.add(str(code2) + ' 0 ' + str(code3))\n",
    "        train_set.add(str(code3) + ' 1 ' + str(code2))\n",
    "        train_set.add(str(code3) + ' 0 ' + str(icdCode))\n",
    "        train_set.add(str(icdCode) + ' 1 ' + str(code3))\n",
    "\n",
    "    elif len(cat2) > 0:\n",
    "        code2 = entities[desc2]\n",
    "        code1 = entities[desc1]\n",
    "        train_set.add(str(rootCode) + ' 0 ' + str(code1))\n",
    "        train_set.add(str(code1) + ' 1 ' + str(rootCode))\n",
    "        train_set.add(str(code1) + ' 0 ' + str(code2))\n",
    "        train_set.add(str(code2) + ' 1 ' + str(code1))\n",
    "        train_set.add(str(code2) + ' 0 ' + str(icdCode))\n",
    "        train_set.add(str(icdCode) + ' 1 ' + str(code2))\n",
    "\n",
    "    else:\n",
    "        code1 = entities[desc1]\n",
    "\n",
    "        train_set.add(str(rootCode) + ' 0 ' + str(code1))\n",
    "        train_set.add(str(code1) + ' 1 ' + str(rootCode))\n",
    "        train_set.add(str(code1) + ' 0 ' + str(icdCode))\n",
    "        train_set.add(str(icdCode) + ' 1 ' + str(code1))"
   ]
  },
  {
   "cell_type": "code",
   "execution_count": 65,
   "metadata": {},
   "outputs": [
    {
     "data": {
      "text/plain": [
       "15800"
      ]
     },
     "execution_count": 65,
     "metadata": {},
     "output_type": "execute_result"
    }
   ],
   "source": [
    "len(entities)"
   ]
  },
  {
   "cell_type": "code",
   "execution_count": 67,
   "metadata": {},
   "outputs": [],
   "source": [
    "leaves = 0\n",
    "for key in entities.keys():\n",
    "    if not key.startswith('A_'):\n",
    "        leaves += 1"
   ]
  },
  {
   "cell_type": "code",
   "execution_count": 68,
   "metadata": {},
   "outputs": [
    {
     "data": {
      "text/plain": [
       "15072"
      ]
     },
     "execution_count": 68,
     "metadata": {},
     "output_type": "execute_result"
    }
   ],
   "source": [
    "leaves"
   ]
  },
  {
   "cell_type": "code",
   "execution_count": 15,
   "metadata": {},
   "outputs": [],
   "source": [
    "outfd = open(outFile+'relation.dict', 'w')\n",
    "for k,v in relation.items():\n",
    "    outfd.write(k + ' ' + str(v) + '\\n')\n",
    "outfd.close()"
   ]
  },
  {
   "cell_type": "code",
   "execution_count": 12,
   "metadata": {},
   "outputs": [],
   "source": [
    "outfd = open(outFile+'entities.dict', 'w')\n",
    "for k,v in entities.items():\n",
    "    outfd.write(k + ' ' + str(v) + '\\n')\n",
    "outfd.close()"
   ]
  },
  {
   "cell_type": "code",
   "execution_count": 14,
   "metadata": {},
   "outputs": [],
   "source": [
    "outfd = open(outFile+'all_edges.tsv', 'w')\n",
    "for edge in train_set:\n",
    "    outfd.write(edge + '\\n')\n",
    "outfd.close()"
   ]
  },
  {
   "cell_type": "code",
   "execution_count": 56,
   "metadata": {},
   "outputs": [],
   "source": [
    "import os\n",
    "path = '/home/xpeng/research/projects/medicalAI_torch/src/KG_medical/outputs/KG/'\n",
    "f = 'entity2id'\n",
    "assert os.path.exists(os.path.join(path, f)), \\\n",
    "                'File {} now exist in {}'.format(f, path)"
   ]
  }
 ],
 "metadata": {
  "kernelspec": {
   "display_name": "Python 3",
   "language": "python",
   "name": "python3"
  },
  "language_info": {
   "codemirror_mode": {
    "name": "ipython",
    "version": 3
   },
   "file_extension": ".py",
   "mimetype": "text/x-python",
   "name": "python",
   "nbconvert_exporter": "python",
   "pygments_lexer": "ipython3",
   "version": "3.7.6"
  }
 },
 "nbformat": 4,
 "nbformat_minor": 4
}
